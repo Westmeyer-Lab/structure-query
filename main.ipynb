{
 "cells": [
  {
   "cell_type": "code",
   "execution_count": 34,
   "metadata": {},
   "outputs": [],
   "source": [
    "from rcsbsearchapi import AttributeQuery\n",
    "from rcsbsearchapi.search import GroupBy, Session\n",
    "from typing import cast\n",
    "\n",
    "# Create a query object\n",
    "query: AttributeQuery = AttributeQuery(\n",
    "    attribute = \"rcsb_entity_source_organism.scientific_name\",\n",
    "    operator = \"exact_match\",\n",
    "    value = \"Homo sapiens\"\n",
    ")\n",
    "\n",
    "# Execute the query\n",
    "results: Session = cast(Session, query.exec(\n",
    "    group_by = GroupBy(\n",
    "        aggregation_method = \"matching_uniprot_accession\"\n",
    "    ),\n",
    "    return_type = \"polymer_entity\",\n",
    "    return_counts = False\n",
    "))"
   ]
  },
  {
   "cell_type": "code",
   "execution_count": 35,
   "metadata": {},
   "outputs": [
    {
     "data": {
      "text/plain": [
       "9164"
      ]
     },
     "execution_count": 35,
     "metadata": {},
     "output_type": "execute_result"
    }
   ],
   "source": [
    "len(list(results))"
   ]
  }
 ],
 "metadata": {
  "kernelspec": {
   "display_name": "structure-query",
   "language": "python",
   "name": "python3"
  },
  "language_info": {
   "codemirror_mode": {
    "name": "ipython",
    "version": 3
   },
   "file_extension": ".py",
   "mimetype": "text/x-python",
   "name": "python",
   "nbconvert_exporter": "python",
   "pygments_lexer": "ipython3",
   "version": "3.13.1"
  }
 },
 "nbformat": 4,
 "nbformat_minor": 2
}
